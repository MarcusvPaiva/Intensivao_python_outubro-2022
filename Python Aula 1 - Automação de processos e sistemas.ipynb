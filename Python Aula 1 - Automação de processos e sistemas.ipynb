{
 "cells": [
  {
   "cell_type": "markdown",
   "metadata": {},
   "source": [
    "# Automação de Sistemas e Processos com Python\n",
    "\n",
    "### Desafio:\n",
    "\n",
    "Todos os dias, o nosso sistema atualiza as vendas do dia anterior.\n",
    "O seu trabalho diário, como analista, é enviar um e-mail para a diretoria, assim que começar a trabalhar, com o faturamento e a quantidade de produtos vendidos no dia anterior\n",
    "\n",
    "E-mail da diretoria: seugmail+diretoria@gmail.com<br>\n",
    "Local onde o sistema disponibiliza as vendas do dia anterior: https://drive.google.com/drive/folders/149xknr9JvrlEnhNWO49zPcw0PW5icxga?usp=sharing\n",
    "\n",
    "Para resolver isso, vamos usar o pyautogui, uma biblioteca de automação de comandos do mouse e do teclado"
   ]
  },
  {
   "cell_type": "code",
   "execution_count": 37,
   "metadata": {},
   "outputs": [
    {
     "name": "stdout",
     "output_type": "stream",
     "text": [
      "Collecting openpyxl\n",
      "  Downloading openpyxl-3.0.10-py2.py3-none-any.whl (242 kB)\n",
      "     -------------------------------------- 242.1/242.1 kB 3.7 MB/s eta 0:00:00\n",
      "Collecting et-xmlfile\n",
      "  Downloading et_xmlfile-1.1.0-py3-none-any.whl (4.7 kB)\n",
      "Installing collected packages: et-xmlfile, openpyxl\n",
      "Successfully installed et-xmlfile-1.1.0 openpyxl-3.0.10\n"
     ]
    }
   ],
   "source": [
    "!pip install pyautogui"
   ]
  },
  {
   "cell_type": "code",
   "execution_count": 29,
   "metadata": {},
   "outputs": [],
   "source": [
    "import pyautogui # Biblioteca\n",
    "import pyperclip\n",
    "import time\n",
    "\n",
    "pyautogui.PAUSE = 1 # Os comandos em python rodam quase em simultâneo, sendo necessário este comando para pausar\n",
    "#pyautogui.click #Clique automatico\n",
    "#pyautogui.press #Tecla automatica (uma tecla)\n",
    "#pyautogui.hotkey #Atalho automático (Conjunto de teclas)\n",
    "#pyautogui.write #Escreve um texto\n",
    "\n",
    "# Passo 1: Entrar no sistema da empresa\n",
    "pyautogui.hotkey(\"ctrl\", \"t\") #Aspas simples ou dupla\n",
    "pyperclip.copy(\"https://drive.google.com/drive/folders/149xknr9JvrlEnhNWO49zPcw0PW5icxga?usp=sharing\")\n",
    "pyautogui.hotkey(\"ctrl\", \"v\") \n",
    "#Não escreve caracteres especiais\n",
    "#Usar pyperclip para copiar e colar links\n",
    "pyautogui.press(\"enter\")\n",
    "time.sleep(5) #Pausa de 3 segundos\n",
    "\n",
    "# Passo 2: Navegar no sistema e encontrar a base de vendas\n",
    "pyautogui.click(x=415, y=352, clicks=2) #Posição da pasta \"Exportar\"\n",
    "time.sleep(5)\n",
    "# Passo 3: Fazer o download da base de vendas\n",
    "pyautogui.click(x=415, y=352) #Clicar no arquivo\n",
    "pyautogui.click(x=1732, y=241) #Clicar nos três pontinhos\n",
    "pyautogui.click(x=1445, y=778) #Clicar no fazer download\n",
    "time.sleep(3)"
   ]
  },
  {
   "cell_type": "markdown",
   "metadata": {},
   "source": [
    "### Vamos agora ler o arquivo baixado para pegar os indicadores\n",
    "\n",
    "- Faturamento\n",
    "- Quantidade de Produtos"
   ]
  },
  {
   "cell_type": "code",
   "execution_count": 38,
   "metadata": {},
   "outputs": [
    {
     "data": {
      "text/html": [
       "<div>\n",
       "<style scoped>\n",
       "    .dataframe tbody tr th:only-of-type {\n",
       "        vertical-align: middle;\n",
       "    }\n",
       "\n",
       "    .dataframe tbody tr th {\n",
       "        vertical-align: top;\n",
       "    }\n",
       "\n",
       "    .dataframe thead th {\n",
       "        text-align: right;\n",
       "    }\n",
       "</style>\n",
       "<table border=\"1\" class=\"dataframe\">\n",
       "  <thead>\n",
       "    <tr style=\"text-align: right;\">\n",
       "      <th></th>\n",
       "      <th>Código Venda</th>\n",
       "      <th>Data</th>\n",
       "      <th>ID Loja</th>\n",
       "      <th>Produto</th>\n",
       "      <th>Quantidade</th>\n",
       "      <th>Valor Unitário</th>\n",
       "      <th>Valor Final</th>\n",
       "    </tr>\n",
       "  </thead>\n",
       "  <tbody>\n",
       "    <tr>\n",
       "      <th>0</th>\n",
       "      <td>65014</td>\n",
       "      <td>2019-12-01</td>\n",
       "      <td>Shopping Morumbi</td>\n",
       "      <td>Sunga Listrado</td>\n",
       "      <td>5</td>\n",
       "      <td>114</td>\n",
       "      <td>570</td>\n",
       "    </tr>\n",
       "    <tr>\n",
       "      <th>1</th>\n",
       "      <td>65014</td>\n",
       "      <td>2019-12-01</td>\n",
       "      <td>Shopping Morumbi</td>\n",
       "      <td>Casaco Listrado</td>\n",
       "      <td>1</td>\n",
       "      <td>269</td>\n",
       "      <td>269</td>\n",
       "    </tr>\n",
       "    <tr>\n",
       "      <th>2</th>\n",
       "      <td>65016</td>\n",
       "      <td>2019-12-01</td>\n",
       "      <td>Iguatemi Campinas</td>\n",
       "      <td>Sapato Listrado</td>\n",
       "      <td>2</td>\n",
       "      <td>363</td>\n",
       "      <td>726</td>\n",
       "    </tr>\n",
       "    <tr>\n",
       "      <th>3</th>\n",
       "      <td>65016</td>\n",
       "      <td>2019-12-01</td>\n",
       "      <td>Iguatemi Campinas</td>\n",
       "      <td>Casaco</td>\n",
       "      <td>1</td>\n",
       "      <td>250</td>\n",
       "      <td>250</td>\n",
       "    </tr>\n",
       "    <tr>\n",
       "      <th>4</th>\n",
       "      <td>65017</td>\n",
       "      <td>2019-12-01</td>\n",
       "      <td>Shopping SP Market</td>\n",
       "      <td>Gorro Liso</td>\n",
       "      <td>3</td>\n",
       "      <td>92</td>\n",
       "      <td>276</td>\n",
       "    </tr>\n",
       "    <tr>\n",
       "      <th>...</th>\n",
       "      <td>...</td>\n",
       "      <td>...</td>\n",
       "      <td>...</td>\n",
       "      <td>...</td>\n",
       "      <td>...</td>\n",
       "      <td>...</td>\n",
       "      <td>...</td>\n",
       "    </tr>\n",
       "    <tr>\n",
       "      <th>7084</th>\n",
       "      <td>69996</td>\n",
       "      <td>2019-12-26</td>\n",
       "      <td>Center Shopping Uberlândia</td>\n",
       "      <td>Short Listrado</td>\n",
       "      <td>2</td>\n",
       "      <td>102</td>\n",
       "      <td>204</td>\n",
       "    </tr>\n",
       "    <tr>\n",
       "      <th>7085</th>\n",
       "      <td>69996</td>\n",
       "      <td>2019-12-26</td>\n",
       "      <td>Center Shopping Uberlândia</td>\n",
       "      <td>Mochila</td>\n",
       "      <td>4</td>\n",
       "      <td>270</td>\n",
       "      <td>1080</td>\n",
       "    </tr>\n",
       "    <tr>\n",
       "      <th>7086</th>\n",
       "      <td>69996</td>\n",
       "      <td>2019-12-26</td>\n",
       "      <td>Center Shopping Uberlândia</td>\n",
       "      <td>Pulseira Estampa</td>\n",
       "      <td>1</td>\n",
       "      <td>87</td>\n",
       "      <td>87</td>\n",
       "    </tr>\n",
       "    <tr>\n",
       "      <th>7087</th>\n",
       "      <td>69997</td>\n",
       "      <td>2019-12-26</td>\n",
       "      <td>Ribeirão Shopping</td>\n",
       "      <td>Camisa Listrado</td>\n",
       "      <td>1</td>\n",
       "      <td>108</td>\n",
       "      <td>108</td>\n",
       "    </tr>\n",
       "    <tr>\n",
       "      <th>7088</th>\n",
       "      <td>69997</td>\n",
       "      <td>2019-12-26</td>\n",
       "      <td>Ribeirão Shopping</td>\n",
       "      <td>Short Linho</td>\n",
       "      <td>2</td>\n",
       "      <td>133</td>\n",
       "      <td>266</td>\n",
       "    </tr>\n",
       "  </tbody>\n",
       "</table>\n",
       "<p>7089 rows × 7 columns</p>\n",
       "</div>"
      ],
      "text/plain": [
       "      Código Venda       Data                     ID Loja           Produto  \\\n",
       "0            65014 2019-12-01            Shopping Morumbi    Sunga Listrado   \n",
       "1            65014 2019-12-01            Shopping Morumbi   Casaco Listrado   \n",
       "2            65016 2019-12-01           Iguatemi Campinas   Sapato Listrado   \n",
       "3            65016 2019-12-01           Iguatemi Campinas            Casaco   \n",
       "4            65017 2019-12-01          Shopping SP Market        Gorro Liso   \n",
       "...            ...        ...                         ...               ...   \n",
       "7084         69996 2019-12-26  Center Shopping Uberlândia    Short Listrado   \n",
       "7085         69996 2019-12-26  Center Shopping Uberlândia           Mochila   \n",
       "7086         69996 2019-12-26  Center Shopping Uberlândia  Pulseira Estampa   \n",
       "7087         69997 2019-12-26           Ribeirão Shopping   Camisa Listrado   \n",
       "7088         69997 2019-12-26           Ribeirão Shopping       Short Linho   \n",
       "\n",
       "      Quantidade  Valor Unitário  Valor Final  \n",
       "0              5             114          570  \n",
       "1              1             269          269  \n",
       "2              2             363          726  \n",
       "3              1             250          250  \n",
       "4              3              92          276  \n",
       "...          ...             ...          ...  \n",
       "7084           2             102          204  \n",
       "7085           4             270         1080  \n",
       "7086           1              87           87  \n",
       "7087           1             108          108  \n",
       "7088           2             133          266  \n",
       "\n",
       "[7089 rows x 7 columns]"
      ]
     },
     "metadata": {},
     "output_type": "display_data"
    }
   ],
   "source": [
    "# Passo 4: Importar a base de vendas pro python\n",
    "import pandas as pd # as qualquer nome\n",
    "tabela = pd.read_excel(r\"C:\\Users\\marcu\\Downloads\\Vendas - Dez.xlsx\") #read_qualquer extensão de arquivo\n",
    "display(tabela)"
   ]
  },
  {
   "cell_type": "code",
   "execution_count": 39,
   "metadata": {},
   "outputs": [
    {
     "name": "stdout",
     "output_type": "stream",
     "text": [
      "2917311\n",
      "15227\n"
     ]
    }
   ],
   "source": [
    "# Passo 5: Calcular os indicadores da empresa\n",
    "faturamento = tabela[\"Valor Final\"].sum() #nome da tabela[\"nome da coluna\"]\n",
    "print(faturamento)\n",
    "quantidade = tabela[\"Quantidade\"].sum()\n",
    "print(quantidade)"
   ]
  },
  {
   "cell_type": "markdown",
   "metadata": {},
   "source": [
    "### Vamos agora enviar um e-mail pelo gmail"
   ]
  },
  {
   "cell_type": "code",
   "execution_count": 43,
   "metadata": {},
   "outputs": [],
   "source": [
    "import pyautogui\n",
    "import pyperclip\n",
    "# Passo 6: Enviar um email para a diretoria com os indicadores de venda\n",
    "#Abrir aba\n",
    "pyautogui.hotkey(\"ctrl\", \"t\")\n",
    "#entrar no link do email\n",
    "pyperclip.copy(\"https://mail.google.com/mail/u/0/#inbox\")\n",
    "pyautogui.hotkey(\"ctrl\", \"v\") \n",
    "pyautogui.press(\"enter\")\n",
    "time.sleep(5)\n",
    "#Clicar em escrever\n",
    "pyautogui.click(x=68, y=241)\n",
    "#Preencher as informações do email\n",
    "pyautogui.write(\"pythonimpressionador@gmail.com\")\n",
    "pyautogui.press(\"tab\") #Seleção de email\n",
    "pyautogui.press(\"tab\") #Pula para o campo de assunto\n",
    "pyperclip.copy(\"Relatório de Vendas\")\n",
    "pyautogui.hotkey(\"ctrl\", \"v\")\n",
    "pyautogui.press(\"tab\") #pula para o campo de email\n",
    "texto = f\"\"\"\n",
    "Prezados diretores\n",
    "\n",
    "Segue o relatório de vendas deste mês:\n",
    "Faturamento: R${faturamento:,.2f} \n",
    "Quantidade de produtos vendidos: {quantidade:,}\n",
    "\n",
    "Qualquer dúvida estou a disposição\n",
    "Att.,\n",
    "Marcus Paiva\n",
    "\"\"\" #3 aspas simples (ou duplas) no começo e no fim permite escrever várias linhas\n",
    "#Separador de milhar é virgula(,); Quantidade de casas decimais: .2, .3 etc.; f = float\n",
    "#Formatação de números\n",
    "pyperclip.copy(texto)\n",
    "pyautogui.hotkey(\"ctrl\", \"v\")\n",
    "#enviar o email\n",
    "pyautogui.hotkey(\"ctrl\", \"enter\")"
   ]
  },
  {
   "cell_type": "markdown",
   "metadata": {},
   "source": [
    "#### Use esse código para descobrir qual a posição de um item que queira clicar\n",
    "\n",
    "- Lembre-se: a posição na sua tela é diferente da posição na minha tela"
   ]
  },
  {
   "cell_type": "code",
   "execution_count": 41,
   "metadata": {},
   "outputs": [
    {
     "data": {
      "text/plain": [
       "Point(x=68, y=241)"
      ]
     },
     "execution_count": 41,
     "metadata": {},
     "output_type": "execute_result"
    }
   ],
   "source": [
    "time.sleep(5)\n",
    "pyautogui.position()"
   ]
  }
 ],
 "metadata": {
  "kernelspec": {
   "display_name": "Python 3 (ipykernel)",
   "language": "python",
   "name": "python3"
  },
  "language_info": {
   "codemirror_mode": {
    "name": "ipython",
    "version": 3
   },
   "file_extension": ".py",
   "mimetype": "text/x-python",
   "name": "python",
   "nbconvert_exporter": "python",
   "pygments_lexer": "ipython3",
   "version": "3.9.12"
  }
 },
 "nbformat": 4,
 "nbformat_minor": 4
}
